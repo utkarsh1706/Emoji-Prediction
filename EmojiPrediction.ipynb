{
  "nbformat": 4,
  "nbformat_minor": 0,
  "metadata": {
    "colab": {
      "name": "EmojiPrediction.ipynb",
      "provenance": [],
      "collapsed_sections": []
    },
    "kernelspec": {
      "name": "python3",
      "display_name": "Python 3"
    }
  },
  "cells": [
    {
      "cell_type": "code",
      "metadata": {
        "id": "IChwqzFdBlDP",
        "colab_type": "code",
        "colab": {}
      },
      "source": [
        "import pandas as pd\n",
        "import numpy as np"
      ],
      "execution_count": 11,
      "outputs": []
    },
    {
      "cell_type": "code",
      "metadata": {
        "id": "P86dqNVsByaS",
        "colab_type": "code",
        "colab": {
          "base_uri": "https://localhost:8080/",
          "height": 191
        },
        "outputId": "88952647-c04c-4001-a92d-c15d31fbff3b"
      },
      "source": [
        "!pip install emoji"
      ],
      "execution_count": 12,
      "outputs": [
        {
          "output_type": "stream",
          "text": [
            "Collecting emoji\n",
            "\u001b[?25l  Downloading https://files.pythonhosted.org/packages/ff/1c/1f1457fe52d0b30cbeebfd578483cedb3e3619108d2d5a21380dfecf8ffd/emoji-0.6.0.tar.gz (51kB)\n",
            "\r\u001b[K     |██████▍                         | 10kB 18.9MB/s eta 0:00:01\r\u001b[K     |████████████▉                   | 20kB 3.4MB/s eta 0:00:01\r\u001b[K     |███████████████████▎            | 30kB 4.1MB/s eta 0:00:01\r\u001b[K     |█████████████████████████▊      | 40kB 4.6MB/s eta 0:00:01\r\u001b[K     |████████████████████████████████| 51kB 2.7MB/s \n",
            "\u001b[?25hBuilding wheels for collected packages: emoji\n",
            "  Building wheel for emoji (setup.py) ... \u001b[?25l\u001b[?25hdone\n",
            "  Created wheel for emoji: filename=emoji-0.6.0-cp36-none-any.whl size=49714 sha256=45ddfa166c4edcf0dd20e0b479a4486a62b7ebe601955910913420f2a6d651bc\n",
            "  Stored in directory: /root/.cache/pip/wheels/46/2c/8b/9dcf5216ca68e14e0320e283692dce8ae321cdc01e73e17796\n",
            "Successfully built emoji\n",
            "Installing collected packages: emoji\n",
            "Successfully installed emoji-0.6.0\n"
          ],
          "name": "stdout"
        }
      ]
    },
    {
      "cell_type": "code",
      "metadata": {
        "id": "vFR54QtmB1Ou",
        "colab_type": "code",
        "colab": {}
      },
      "source": [
        "test = pd.read_csv(\"/content/emojitest.csv\", header=None)\n",
        "train = pd.read_csv(\"/content/emojitrain.csv\" , header = None)"
      ],
      "execution_count": 42,
      "outputs": []
    },
    {
      "cell_type": "code",
      "metadata": {
        "id": "4dnF9JbTCCTI",
        "colab_type": "code",
        "colab": {}
      },
      "source": [
        "import emoji"
      ],
      "execution_count": 15,
      "outputs": []
    },
    {
      "cell_type": "code",
      "metadata": {
        "id": "p0_t0cHECDNJ",
        "colab_type": "code",
        "colab": {
          "base_uri": "https://localhost:8080/",
          "height": 1000
        },
        "outputId": "aed9ef2a-15b3-48bf-9c36-77198bdb0241"
      },
      "source": [
        "emoji.EMOJI_UNICODE"
      ],
      "execution_count": 16,
      "outputs": [
        {
          "output_type": "execute_result",
          "data": {
            "text/plain": [
              "{':1st_place_medal:': '🥇',\n",
              " ':2nd_place_medal:': '🥈',\n",
              " ':3rd_place_medal:': '🥉',\n",
              " ':AB_button_(blood_type):': '🆎',\n",
              " ':ATM_sign:': '🏧',\n",
              " ':A_button_(blood_type):': '🅰',\n",
              " ':A_button_(blood_type)_selector:': '🅰️',\n",
              " ':Afghanistan:': '🇦🇫',\n",
              " ':Aland_Islands:': '🇦🇽',\n",
              " ':Albania:': '🇦🇱',\n",
              " ':Algeria:': '🇩🇿',\n",
              " ':American_Samoa:': '🇦🇸',\n",
              " ':Andorra:': '🇦🇩',\n",
              " ':Angola:': '🇦🇴',\n",
              " ':Anguilla:': '🇦🇮',\n",
              " ':Antarctica:': '🇦🇶',\n",
              " ':Antigua_&_Barbuda:': '🇦🇬',\n",
              " ':Aquarius:': '♒',\n",
              " ':Argentina:': '🇦🇷',\n",
              " ':Aries:': '♈',\n",
              " ':Armenia:': '🇦🇲',\n",
              " ':Aruba:': '🇦🇼',\n",
              " ':Ascension_Island:': '🇦🇨',\n",
              " ':Australia:': '🇦🇺',\n",
              " ':Austria:': '🇦🇹',\n",
              " ':Azerbaijan:': '🇦🇿',\n",
              " ':BACK_arrow:': '🔙',\n",
              " ':B_button_(blood_type):': '🅱',\n",
              " ':B_button_(blood_type)_selector:': '🅱️',\n",
              " ':Bahamas:': '🇧🇸',\n",
              " ':Bahrain:': '🇧🇭',\n",
              " ':Bangladesh:': '🇧🇩',\n",
              " ':Barbados:': '🇧🇧',\n",
              " ':Belarus:': '🇧🇾',\n",
              " ':Belgium:': '🇧🇪',\n",
              " ':Belize:': '🇧🇿',\n",
              " ':Benin:': '🇧🇯',\n",
              " ':Bermuda:': '🇧🇲',\n",
              " ':Bhutan:': '🇧🇹',\n",
              " ':Bolivia:': '🇧🇴',\n",
              " ':Bosnia_&_Herzegovina:': '🇧🇦',\n",
              " ':Botswana:': '🇧🇼',\n",
              " ':Bouvet_Island:': '🇧🇻',\n",
              " ':Brazil:': '🇧🇷',\n",
              " ':British_Indian_Ocean_Territory:': '🇮🇴',\n",
              " ':British_Virgin_Islands:': '🇻🇬',\n",
              " ':Brunei:': '🇧🇳',\n",
              " ':Bulgaria:': '🇧🇬',\n",
              " ':Burkina_Faso:': '🇧🇫',\n",
              " ':Burundi:': '🇧🇮',\n",
              " ':CL_button:': '🆑',\n",
              " ':COOL_button:': '🆒',\n",
              " ':Cambodia:': '🇰🇭',\n",
              " ':Cameroon:': '🇨🇲',\n",
              " ':Canada:': '🇨🇦',\n",
              " ':Canary_Islands:': '🇮🇨',\n",
              " ':Cancer:': '♋',\n",
              " ':Cape_Verde:': '🇨🇻',\n",
              " ':Capricorn:': '♑',\n",
              " ':Caribbean_Netherlands:': '🇧🇶',\n",
              " ':Cayman_Islands:': '🇰🇾',\n",
              " ':Central_African_Republic:': '🇨🇫',\n",
              " ':Ceuta_&_Melilla:': '🇪🇦',\n",
              " ':Chad:': '🇹🇩',\n",
              " ':Chile:': '🇨🇱',\n",
              " ':China:': '🇨🇳',\n",
              " ':Christmas_Island:': '🇨🇽',\n",
              " ':Christmas_tree:': '🎄',\n",
              " ':Clipperton_Island:': '🇨🇵',\n",
              " ':Cocos_(Keeling)_Islands:': '🇨🇨',\n",
              " ':Colombia:': '🇨🇴',\n",
              " ':Comoros:': '🇰🇲',\n",
              " ':Congo_-_Brazzaville:': '🇨🇬',\n",
              " ':Congo_-_Kinshasa:': '🇨🇩',\n",
              " ':Cook_Islands:': '🇨🇰',\n",
              " ':Costa_Rica:': '🇨🇷',\n",
              " ':Croatia:': '🇭🇷',\n",
              " ':Cuba:': '🇨🇺',\n",
              " ':Curaçao:': '🇨🇼',\n",
              " ':Cyprus:': '🇨🇾',\n",
              " ':Czechia:': '🇨🇿',\n",
              " ':Côte_d’Ivoire:': '🇨🇮',\n",
              " ':Denmark:': '🇩🇰',\n",
              " ':Diego_Garcia:': '🇩🇬',\n",
              " ':Djibouti:': '🇩🇯',\n",
              " ':Dominica:': '🇩🇲',\n",
              " ':Dominican_Republic:': '🇩🇴',\n",
              " ':END_arrow:': '🔚',\n",
              " ':Ecuador:': '🇪🇨',\n",
              " ':Egypt:': '🇪🇬',\n",
              " ':El_Salvador:': '🇸🇻',\n",
              " ':England:': '🏴\\U000e0067\\U000e0062\\U000e0065\\U000e006e\\U000e0067\\U000e007f',\n",
              " ':Equatorial_Guinea:': '🇬🇶',\n",
              " ':Eritrea:': '🇪🇷',\n",
              " ':Estonia:': '🇪🇪',\n",
              " ':Ethiopia:': '🇪🇹',\n",
              " ':European_Union:': '🇪🇺',\n",
              " ':FREE_button:': '🆓',\n",
              " ':Falkland_Islands:': '🇫🇰',\n",
              " ':Faroe_Islands:': '🇫🇴',\n",
              " ':Fiji:': '🇫🇯',\n",
              " ':Finland:': '🇫🇮',\n",
              " ':France:': '🇫🇷',\n",
              " ':French_Guiana:': '🇬🇫',\n",
              " ':French_Polynesia:': '🇵🇫',\n",
              " ':French_Southern_Territories:': '🇹🇫',\n",
              " ':Gabon:': '🇬🇦',\n",
              " ':Gambia:': '🇬🇲',\n",
              " ':Gemini:': '♊',\n",
              " ':Georgia:': '🇬🇪',\n",
              " ':Germany:': '🇩🇪',\n",
              " ':Ghana:': '🇬🇭',\n",
              " ':Gibraltar:': '🇬🇮',\n",
              " ':Greece:': '🇬🇷',\n",
              " ':Greenland:': '🇬🇱',\n",
              " ':Grenada:': '🇬🇩',\n",
              " ':Guadeloupe:': '🇬🇵',\n",
              " ':Guam:': '🇬🇺',\n",
              " ':Guatemala:': '🇬🇹',\n",
              " ':Guernsey:': '🇬🇬',\n",
              " ':Guinea-Bissau:': '🇬🇼',\n",
              " ':Guinea:': '🇬🇳',\n",
              " ':Guyana:': '🇬🇾',\n",
              " ':Haiti:': '🇭🇹',\n",
              " ':Heard_&_McDonald_Islands:': '🇭🇲',\n",
              " ':Honduras:': '🇭🇳',\n",
              " ':Hong_Kong_SAR_China:': '🇭🇰',\n",
              " ':Hungary:': '🇭🇺',\n",
              " ':ID_button:': '🆔',\n",
              " ':Iceland:': '🇮🇸',\n",
              " ':India:': '🇮🇳',\n",
              " ':Indonesia:': '🇮🇩',\n",
              " ':Iran:': '🇮🇷',\n",
              " ':Iraq:': '🇮🇶',\n",
              " ':Ireland:': '🇮🇪',\n",
              " ':Isle_of_Man:': '🇮🇲',\n",
              " ':Israel:': '🇮🇱',\n",
              " ':Italy:': '🇮🇹',\n",
              " ':Jamaica:': '🇯🇲',\n",
              " ':Japan:': '🇯🇵',\n",
              " ':Japanese_acceptable_button:': '🉑',\n",
              " ':Japanese_application_button:': '🈸',\n",
              " ':Japanese_bargain_button:': '🉐',\n",
              " ':Japanese_castle:': '🏯',\n",
              " ':Japanese_congratulations_button:': '㊗',\n",
              " ':Japanese_discount_button:': '🈹',\n",
              " ':Japanese_dolls:': '🎎',\n",
              " ':Japanese_free_of_charge_button:': '🈚',\n",
              " ':Japanese_here_button:': '🈁',\n",
              " ':Japanese_monthly_amount_button:': '🈷',\n",
              " ':Japanese_no_vacancy_button:': '🈵',\n",
              " ':Japanese_not_free_of_charge_button:': '🈶',\n",
              " ':Japanese_open_for_business_button:': '🈺',\n",
              " ':Japanese_passing_grade_button:': '🈴',\n",
              " ':Japanese_post_office:': '🏣',\n",
              " ':Japanese_prohibited_button:': '🈲',\n",
              " ':Japanese_reserved_button:': '🈯',\n",
              " ':Japanese_secret_button:': '㊙',\n",
              " ':Japanese_service_charge_button:': '🈂',\n",
              " ':Japanese_symbol_for_beginner:': '🔰',\n",
              " ':Japanese_vacancy_button:': '🈳',\n",
              " ':Japanese_congratulations_button_selector:': '㊗️',\n",
              " ':Japanese_monthly_amount_button_selector:': '🈷️',\n",
              " ':Japanese_secret_button_selector:': '㊙️',\n",
              " ':Japanese_service_charge_button_selector:': '🈂️',\n",
              " ':Jersey:': '🇯🇪',\n",
              " ':Jordan:': '🇯🇴',\n",
              " ':Kazakhstan:': '🇰🇿',\n",
              " ':Kenya:': '🇰🇪',\n",
              " ':Kiribati:': '🇰🇮',\n",
              " ':Kosovo:': '🇽🇰',\n",
              " ':Kuwait:': '🇰🇼',\n",
              " ':Kyrgyzstan:': '🇰🇬',\n",
              " ':Laos:': '🇱🇦',\n",
              " ':Latvia:': '🇱🇻',\n",
              " ':Lebanon:': '🇱🇧',\n",
              " ':Leo:': '♌',\n",
              " ':Lesotho:': '🇱🇸',\n",
              " ':Liberia:': '🇱🇷',\n",
              " ':Libra:': '♎',\n",
              " ':Libya:': '🇱🇾',\n",
              " ':Liechtenstein:': '🇱🇮',\n",
              " ':Lithuania:': '🇱🇹',\n",
              " ':Luxembourg:': '🇱🇺',\n",
              " ':Macau_SAR_China:': '🇲🇴',\n",
              " ':Macedonia:': '🇲🇰',\n",
              " ':Madagascar:': '🇲🇬',\n",
              " ':Malawi:': '🇲🇼',\n",
              " ':Malaysia:': '🇲🇾',\n",
              " ':Maldives:': '🇲🇻',\n",
              " ':Mali:': '🇲🇱',\n",
              " ':Malta:': '🇲🇹',\n",
              " ':Marshall_Islands:': '🇲🇭',\n",
              " ':Martinique:': '🇲🇶',\n",
              " ':Mauritania:': '🇲🇷',\n",
              " ':Mauritius:': '🇲🇺',\n",
              " ':Mayotte:': '🇾🇹',\n",
              " ':Mexico:': '🇲🇽',\n",
              " ':Micronesia:': '🇫🇲',\n",
              " ':Moldova:': '🇲🇩',\n",
              " ':Monaco:': '🇲🇨',\n",
              " ':Mongolia:': '🇲🇳',\n",
              " ':Montenegro:': '🇲🇪',\n",
              " ':Montserrat:': '🇲🇸',\n",
              " ':Morocco:': '🇲🇦',\n",
              " ':Mozambique:': '🇲🇿',\n",
              " ':Mrs._Claus:': '🤶',\n",
              " ':Mrs._Claus_dark_skin_tone:': '🤶🏿',\n",
              " ':Mrs._Claus_light_skin_tone:': '🤶🏻',\n",
              " ':Mrs._Claus_medium-dark_skin_tone:': '🤶🏾',\n",
              " ':Mrs._Claus_medium-light_skin_tone:': '🤶🏼',\n",
              " ':Mrs._Claus_medium_skin_tone:': '🤶🏽',\n",
              " ':Myanmar_(Burma):': '🇲🇲',\n",
              " ':NEW_button:': '🆕',\n",
              " ':NG_button:': '🆖',\n",
              " ':Namibia:': '🇳🇦',\n",
              " ':Nauru:': '🇳🇷',\n",
              " ':Nepal:': '🇳🇵',\n",
              " ':Netherlands:': '🇳🇱',\n",
              " ':New_Caledonia:': '🇳🇨',\n",
              " ':New_Zealand:': '🇳🇿',\n",
              " ':Nicaragua:': '🇳🇮',\n",
              " ':Niger:': '🇳🇪',\n",
              " ':Nigeria:': '🇳🇬',\n",
              " ':Niue:': '🇳🇺',\n",
              " ':Norfolk_Island:': '🇳🇫',\n",
              " ':North_Korea:': '🇰🇵',\n",
              " ':Northern_Mariana_Islands:': '🇲🇵',\n",
              " ':Norway:': '🇳🇴',\n",
              " ':OK_button:': '🆗',\n",
              " ':OK_hand:': '👌',\n",
              " ':OK_hand_dark_skin_tone:': '👌🏿',\n",
              " ':OK_hand_light_skin_tone:': '👌🏻',\n",
              " ':OK_hand_medium-dark_skin_tone:': '👌🏾',\n",
              " ':OK_hand_medium-light_skin_tone:': '👌🏼',\n",
              " ':OK_hand_medium_skin_tone:': '👌🏽',\n",
              " ':ON!_arrow:': '🔛',\n",
              " ':O_button_(blood_type):': '🅾',\n",
              " ':O_button_(blood_type)_selector:': '🅾️',\n",
              " ':Oman:': '🇴🇲',\n",
              " ':Ophiuchus:': '⛎',\n",
              " ':P_button:': '🅿',\n",
              " ':P_button_selector:': '🅿️',\n",
              " ':Pakistan:': '🇵🇰',\n",
              " ':Palau:': '🇵🇼',\n",
              " ':Palestinian_Territories:': '🇵🇸',\n",
              " ':Panama:': '🇵🇦',\n",
              " ':Papua_New_Guinea:': '🇵🇬',\n",
              " ':Paraguay:': '🇵🇾',\n",
              " ':Peru:': '🇵🇪',\n",
              " ':Philippines:': '🇵🇭',\n",
              " ':Pisces:': '♓',\n",
              " ':Pitcairn_Islands:': '🇵🇳',\n",
              " ':Poland:': '🇵🇱',\n",
              " ':Portugal:': '🇵🇹',\n",
              " ':Puerto_Rico:': '🇵🇷',\n",
              " ':Qatar:': '🇶🇦',\n",
              " ':Romania:': '🇷🇴',\n",
              " ':Russia:': '🇷🇺',\n",
              " ':Rwanda:': '🇷🇼',\n",
              " ':Réunion:': '🇷🇪',\n",
              " ':SOON_arrow:': '🔜',\n",
              " ':SOS_button:': '🆘',\n",
              " ':Sagittarius:': '♐',\n",
              " ':Samoa:': '🇼🇸',\n",
              " ':San_Marino:': '🇸🇲',\n",
              " ':Santa_Claus:': '🎅',\n",
              " ':Santa_Claus_dark_skin_tone:': '🎅🏿',\n",
              " ':Santa_Claus_light_skin_tone:': '🎅🏻',\n",
              " ':Santa_Claus_medium-dark_skin_tone:': '🎅🏾',\n",
              " ':Santa_Claus_medium-light_skin_tone:': '🎅🏼',\n",
              " ':Santa_Claus_medium_skin_tone:': '🎅🏽',\n",
              " ':Saudi_Arabia:': '🇸🇦',\n",
              " ':Scorpio:': '♏',\n",
              " ':Scotland:': '🏴\\U000e0067\\U000e0062\\U000e0073\\U000e0063\\U000e0074\\U000e007f',\n",
              " ':Senegal:': '🇸🇳',\n",
              " ':Serbia:': '🇷🇸',\n",
              " ':Seychelles:': '🇸🇨',\n",
              " ':Sierra_Leone:': '🇸🇱',\n",
              " ':Singapore:': '🇸🇬',\n",
              " ':Sint_Maarten:': '🇸🇽',\n",
              " ':Slovakia:': '🇸🇰',\n",
              " ':Slovenia:': '🇸🇮',\n",
              " ':Solomon_Islands:': '🇸🇧',\n",
              " ':Somalia:': '🇸🇴',\n",
              " ':South_Africa:': '🇿🇦',\n",
              " ':South_Georgia_&_South_Sandwich_Islands:': '🇬🇸',\n",
              " ':South_Korea:': '🇰🇷',\n",
              " ':South_Sudan:': '🇸🇸',\n",
              " ':Spain:': '🇪🇸',\n",
              " ':Sri_Lanka:': '🇱🇰',\n",
              " ':St._Barthélemy:': '🇧🇱',\n",
              " ':St._Helena:': '🇸🇭',\n",
              " ':St._Kitts_&_Nevis:': '🇰🇳',\n",
              " ':St._Lucia:': '🇱🇨',\n",
              " ':St._Martin:': '🇲🇫',\n",
              " ':St._Pierre_&_Miquelon:': '🇵🇲',\n",
              " ':St._Vincent_&_Grenadines:': '🇻🇨',\n",
              " ':Statue_of_Liberty:': '🗽',\n",
              " ':Sudan:': '🇸🇩',\n",
              " ':Suriname:': '🇸🇷',\n",
              " ':Svalbard_&_Jan_Mayen:': '🇸🇯',\n",
              " ':Swaziland:': '🇸🇿',\n",
              " ':Sweden:': '🇸🇪',\n",
              " ':Switzerland:': '🇨🇭',\n",
              " ':Syria:': '🇸🇾',\n",
              " ':São_Tomé_&_Príncipe:': '🇸🇹',\n",
              " ':T-Rex:': '\\U0001f996',\n",
              " ':TOP_arrow:': '🔝',\n",
              " ':Taiwan:': '🇹🇼',\n",
              " ':Tajikistan:': '🇹🇯',\n",
              " ':Tanzania:': '🇹🇿',\n",
              " ':Taurus:': '♉',\n",
              " ':Thailand:': '🇹🇭',\n",
              " ':Timor-Leste:': '🇹🇱',\n",
              " ':Togo:': '🇹🇬',\n",
              " ':Tokelau:': '🇹🇰',\n",
              " ':Tokyo_tower:': '🗼',\n",
              " ':Tonga:': '🇹🇴',\n",
              " ':Trinidad_&_Tobago:': '🇹🇹',\n",
              " ':Tristan_da_Cunha:': '🇹🇦',\n",
              " ':Tunisia:': '🇹🇳',\n",
              " ':Turkey:': '🇹🇷',\n",
              " ':Turkmenistan:': '🇹🇲',\n",
              " ':Turks_&_Caicos_Islands:': '🇹🇨',\n",
              " ':Tuvalu:': '🇹🇻',\n",
              " ':U.S._Outlying_Islands:': '🇺🇲',\n",
              " ':U.S._Virgin_Islands:': '🇻🇮',\n",
              " ':UP!_button:': '🆙',\n",
              " ':Uganda:': '🇺🇬',\n",
              " ':Ukraine:': '🇺🇦',\n",
              " ':United_Arab_Emirates:': '🇦🇪',\n",
              " ':United_Kingdom:': '🇬🇧',\n",
              " ':United_Nations:': '🇺🇳',\n",
              " ':United_States:': '🇺🇸',\n",
              " ':Uruguay:': '🇺🇾',\n",
              " ':Uzbekistan:': '🇺🇿',\n",
              " ':VS_button:': '🆚',\n",
              " ':Vanuatu:': '🇻🇺',\n",
              " ':Vatican_City:': '🇻🇦',\n",
              " ':Venezuela:': '🇻🇪',\n",
              " ':Vietnam:': '🇻🇳',\n",
              " ':Virgo:': '♍',\n",
              " ':Wales:': '🏴\\U000e0067\\U000e0062\\U000e0077\\U000e006c\\U000e0073\\U000e007f',\n",
              " ':Wallis_&_Futuna:': '🇼🇫',\n",
              " ':Western_Sahara:': '🇪🇭',\n",
              " ':Yemen:': '🇾🇪',\n",
              " ':Zambia:': '🇿🇲',\n",
              " ':Zimbabwe:': '🇿🇼',\n",
              " ':abacus:': '\\U0001f9ee',\n",
              " ':adhesive_bandage:': '\\U0001fa79',\n",
              " ':admission_tickets:': '🎟',\n",
              " ':admission_tickets_selector:': '🎟️',\n",
              " ':adult:': '\\U0001f9d1',\n",
              " ':adult_dark_skin_tone:': '\\U0001f9d1🏿',\n",
              " ':adult_light_skin_tone:': '\\U0001f9d1🏻',\n",
              " ':adult_medium-dark_skin_tone:': '\\U0001f9d1🏾',\n",
              " ':adult_medium-light_skin_tone:': '\\U0001f9d1🏼',\n",
              " ':adult_medium_skin_tone:': '\\U0001f9d1🏽',\n",
              " ':aerial_tramway:': '🚡',\n",
              " ':airplane:': '✈',\n",
              " ':airplane_arrival:': '🛬',\n",
              " ':airplane_departure:': '🛫',\n",
              " ':airplane_selector:': '✈️',\n",
              " ':alarm_clock:': '⏰',\n",
              " ':alembic:': '⚗',\n",
              " ':alembic_selector:': '⚗️',\n",
              " ':alien:': '👽',\n",
              " ':alien_monster:': '👾',\n",
              " ':ambulance:': '🚑',\n",
              " ':american_football:': '🏈',\n",
              " ':amphora:': '🏺',\n",
              " ':anchor:': '⚓',\n",
              " ':anger_symbol:': '💢',\n",
              " ':angry_face:': '😠',\n",
              " ':angry_face_with_horns:': '👿',\n",
              " ':anguished_face:': '😧',\n",
              " ':ant:': '🐜',\n",
              " ':antenna_bars:': '📶',\n",
              " ':anxious_face_with_sweat:': '😰',\n",
              " ':articulated_lorry:': '🚛',\n",
              " ':artist_palette:': '🎨',\n",
              " ':astonished_face:': '😲',\n",
              " ':atom_symbol:': '⚛',\n",
              " ':atom_symbol_selector:': '⚛️',\n",
              " ':auto_rickshaw:': '\\U0001f6fa',\n",
              " ':automobile:': '🚗',\n",
              " ':avocado:': '🥑',\n",
              " ':axe:': '\\U0001fa93',\n",
              " ':baby:': '👶',\n",
              " ':baby_angel:': '👼',\n",
              " ':baby_angel_dark_skin_tone:': '👼🏿',\n",
              " ':baby_angel_light_skin_tone:': '👼🏻',\n",
              " ':baby_angel_medium-dark_skin_tone:': '👼🏾',\n",
              " ':baby_angel_medium-light_skin_tone:': '👼🏼',\n",
              " ':baby_angel_medium_skin_tone:': '👼🏽',\n",
              " ':baby_bottle:': '🍼',\n",
              " ':baby_chick:': '🐤',\n",
              " ':baby_dark_skin_tone:': '👶🏿',\n",
              " ':baby_light_skin_tone:': '👶🏻',\n",
              " ':baby_medium-dark_skin_tone:': '👶🏾',\n",
              " ':baby_medium-light_skin_tone:': '👶🏼',\n",
              " ':baby_medium_skin_tone:': '👶🏽',\n",
              " ':baby_symbol:': '🚼',\n",
              " ':backhand_index_pointing_down:': '👇',\n",
              " ':backhand_index_pointing_down_dark_skin_tone:': '👇🏿',\n",
              " ':backhand_index_pointing_down_light_skin_tone:': '👇🏻',\n",
              " ':backhand_index_pointing_down_medium-dark_skin_tone:': '👇🏾',\n",
              " ':backhand_index_pointing_down_medium-light_skin_tone:': '👇🏼',\n",
              " ':backhand_index_pointing_down_medium_skin_tone:': '👇🏽',\n",
              " ':backhand_index_pointing_left:': '👈',\n",
              " ':backhand_index_pointing_left_dark_skin_tone:': '👈🏿',\n",
              " ':backhand_index_pointing_left_light_skin_tone:': '👈🏻',\n",
              " ':backhand_index_pointing_left_medium-dark_skin_tone:': '👈🏾',\n",
              " ':backhand_index_pointing_left_medium-light_skin_tone:': '👈🏼',\n",
              " ':backhand_index_pointing_left_medium_skin_tone:': '👈🏽',\n",
              " ':backhand_index_pointing_right:': '👉',\n",
              " ':backhand_index_pointing_right_dark_skin_tone:': '👉🏿',\n",
              " ':backhand_index_pointing_right_light_skin_tone:': '👉🏻',\n",
              " ':backhand_index_pointing_right_medium-dark_skin_tone:': '👉🏾',\n",
              " ':backhand_index_pointing_right_medium-light_skin_tone:': '👉🏼',\n",
              " ':backhand_index_pointing_right_medium_skin_tone:': '👉🏽',\n",
              " ':backhand_index_pointing_up:': '👆',\n",
              " ':backhand_index_pointing_up_dark_skin_tone:': '👆🏿',\n",
              " ':backhand_index_pointing_up_light_skin_tone:': '👆🏻',\n",
              " ':backhand_index_pointing_up_medium-dark_skin_tone:': '👆🏾',\n",
              " ':backhand_index_pointing_up_medium-light_skin_tone:': '👆🏼',\n",
              " ':backhand_index_pointing_up_medium_skin_tone:': '👆🏽',\n",
              " ':bacon:': '🥓',\n",
              " ':badger:': '\\U0001f9a1',\n",
              " ':badminton:': '🏸',\n",
              " ':bagel:': '\\U0001f96f',\n",
              " ':baggage_claim:': '🛄',\n",
              " ':baguette_bread:': '🥖',\n",
              " ':balance_scale:': '⚖',\n",
              " ':balance_scale_selector:': '⚖️',\n",
              " ':bald:': '\\U0001f9b2',\n",
              " ':bald_man:': '👨\\u200d\\U0001f9b2',\n",
              " ':bald_woman:': '👩\\u200d\\U0001f9b2',\n",
              " ':ballet_shoes:': '\\U0001fa70',\n",
              " ':balloon:': '🎈',\n",
              " ':ballot_box_with_ballot:': '🗳',\n",
              " ':ballot_box_with_ballot_selector:': '🗳️',\n",
              " ':ballot_box_with_check:': '☑',\n",
              " ':banana:': '🍌',\n",
              " ':banjo:': '\\U0001fa95',\n",
              " ':bank:': '🏦',\n",
              " ':bar_chart:': '📊',\n",
              " ':barber_pole:': '💈',\n",
              " ':baseball:': '⚾',\n",
              " ':basket:': '\\U0001f9fa',\n",
              " ':basketball:': '🏀',\n",
              " ':bat:': '🦇',\n",
              " ':bathtub:': '🛁',\n",
              " ':battery:': '🔋',\n",
              " ':beach_with_umbrella:': '🏖',\n",
              " ':beach_with_umbrella_selector:': '🏖️',\n",
              " ':beaming_face_with_smiling_eyes:': '😁',\n",
              " ':bear_face:': '🐻',\n",
              " ':bearded_person:': '\\U0001f9d4',\n",
              " ':bearded_person_dark_skin_tone:': '\\U0001f9d4🏿',\n",
              " ':bearded_person_light_skin_tone:': '\\U0001f9d4🏻',\n",
              " ':bearded_person_medium-dark_skin_tone:': '\\U0001f9d4🏾',\n",
              " ':bearded_person_medium-light_skin_tone:': '\\U0001f9d4🏼',\n",
              " ':bearded_person_medium_skin_tone:': '\\U0001f9d4🏽',\n",
              " ':beating_heart:': '💓',\n",
              " ':bed:': '🛏',\n",
              " ':bed_selector:': '🛏️',\n",
              " ':beer_mug:': '🍺',\n",
              " ':bell:': '🔔',\n",
              " ':bell_with_slash:': '🔕',\n",
              " ':bellhop_bell:': '🛎',\n",
              " ':bellhop_bell_selector:': '🛎️',\n",
              " ':bento_box:': '🍱',\n",
              " ':beverage_box:': '\\U0001f9c3',\n",
              " ':bicycle:': '🚲',\n",
              " ':bikini:': '👙',\n",
              " ':billed_cap:': '\\U0001f9e2',\n",
              " ':biohazard:': '☣',\n",
              " ':biohazard_selector:': '☣️',\n",
              " ':bird:': '🐦',\n",
              " ':birthday_cake:': '🎂',\n",
              " ':black_circle:': '⚫',\n",
              " ':black_flag:': '🏴',\n",
              " ':black_heart:': '🖤',\n",
              " ':black_large_square:': '⬛',\n",
              " ':black_medium-small_square:': '◾',\n",
              " ':black_medium_square:': '◼',\n",
              " ':black_medium_square_selector:': '◼️',\n",
              " ':black_nib:': '✒',\n",
              " ':black_nib_selector:': '✒️',\n",
              " ':black_small_square:': '▪',\n",
              " ':black_small_square_selector:': '▪️',\n",
              " ':black_square_button:': '🔲',\n",
              " ':blond-haired_man:': '👱\\u200d♂️',\n",
              " ':blond-haired_man_dark_skin_tone:': '👱🏿\\u200d♂️',\n",
              " ':blond-haired_man_light_skin_tone:': '👱🏻\\u200d♂️',\n",
              " ':blond-haired_man_medium-dark_skin_tone:': '👱🏾\\u200d♂️',\n",
              " ':blond-haired_man_medium-light_skin_tone:': '👱🏼\\u200d♂️',\n",
              " ':blond-haired_man_medium_skin_tone:': '👱🏽\\u200d♂️',\n",
              " ':blond-haired_person:': '👱',\n",
              " ':blond-haired_person_dark_skin_tone:': '👱🏿',\n",
              " ':blond-haired_person_light_skin_tone:': '👱🏻',\n",
              " ':blond-haired_person_medium-dark_skin_tone:': '👱🏾',\n",
              " ':blond-haired_person_medium-light_skin_tone:': '👱🏼',\n",
              " ':blond-haired_person_medium_skin_tone:': '👱🏽',\n",
              " ':blond-haired_woman:': '👱\\u200d♀️',\n",
              " ':blond-haired_woman_dark_skin_tone:': '👱🏿\\u200d♀️',\n",
              " ':blond-haired_woman_light_skin_tone:': '👱🏻\\u200d♀️',\n",
              " ':blond-haired_woman_medium-dark_skin_tone:': '👱🏾\\u200d♀️',\n",
              " ':blond-haired_woman_medium-light_skin_tone:': '👱🏼\\u200d♀️',\n",
              " ':blond-haired_woman_medium_skin_tone:': '👱🏽\\u200d♀️',\n",
              " ':blossom:': '🌼',\n",
              " ':blowfish:': '🐡',\n",
              " ':blue_book:': '📘',\n",
              " ':blue_circle:': '🔵',\n",
              " ':blue_heart:': '💙',\n",
              " ':blue_square:': '\\U0001f7e6',\n",
              " ':boar:': '🐗',\n",
              " ':bomb:': '💣',\n",
              " ':bone:': '\\U0001f9b4',\n",
              " ':bookmark:': '🔖',\n",
              " ':bookmark_tabs:': '📑',\n",
              " ':books:': '📚',\n",
              " ':bottle_with_popping_cork:': '🍾',\n",
              " ':bouquet:': '💐',\n",
              " ':bow_and_arrow:': '🏹',\n",
              " ':bowl_with_spoon:': '\\U0001f963',\n",
              " ':bowling:': '🎳',\n",
              " ':boxing_glove:': '🥊',\n",
              " ':boy:': '👦',\n",
              " ':boy_dark_skin_tone:': '👦🏿',\n",
              " ':boy_light_skin_tone:': '👦🏻',\n",
              " ':boy_medium-dark_skin_tone:': '👦🏾',\n",
              " ':boy_medium-light_skin_tone:': '👦🏼',\n",
              " ':boy_medium_skin_tone:': '👦🏽',\n",
              " ':brain:': '\\U0001f9e0',\n",
              " ':bread:': '🍞',\n",
              " ':breast-feeding:': '\\U0001f931',\n",
              " ':breast-feeding_dark_skin_tone:': '\\U0001f931🏿',\n",
              " ':breast-feeding_light_skin_tone:': '\\U0001f931🏻',\n",
              " ':breast-feeding_medium-dark_skin_tone:': '\\U0001f931🏾',\n",
              " ':breast-feeding_medium-light_skin_tone:': '\\U0001f931🏼',\n",
              " ':breast-feeding_medium_skin_tone:': '\\U0001f931🏽',\n",
              " ':brick:': '\\U0001f9f1',\n",
              " ':bride_with_veil:': '👰',\n",
              " ':bride_with_veil_dark_skin_tone:': '👰🏿',\n",
              " ':bride_with_veil_light_skin_tone:': '👰🏻',\n",
              " ':bride_with_veil_medium-dark_skin_tone:': '👰🏾',\n",
              " ':bride_with_veil_medium-light_skin_tone:': '👰🏼',\n",
              " ':bride_with_veil_medium_skin_tone:': '👰🏽',\n",
              " ':bridge_at_night:': '🌉',\n",
              " ':briefcase:': '💼',\n",
              " ':briefs:': '\\U0001fa72',\n",
              " ':bright_button:': '🔆',\n",
              " ':broccoli:': '\\U0001f966',\n",
              " ':broken_heart:': '💔',\n",
              " ':broom:': '\\U0001f9f9',\n",
              " ':brown_circle:': '\\U0001f7e4',\n",
              " ':brown_heart:': '\\U0001f90e',\n",
              " ':brown_square:': '\\U0001f7eb',\n",
              " ':bug:': '🐛',\n",
              " ':building_construction:': '🏗',\n",
              " ':building_construction_selector:': '🏗️',\n",
              " ':bullet_train:': '🚅',\n",
              " ':burrito:': '🌯',\n",
              " ':bus:': '🚌',\n",
              " ':bus_stop:': '🚏',\n",
              " ':bust_in_silhouette:': '👤',\n",
              " ':busts_in_silhouette:': '👥',\n",
              " ':butter:': '\\U0001f9c8',\n",
              " ':butterfly:': '🦋',\n",
              " ':cactus:': '🌵',\n",
              " ':calendar:': '📅',\n",
              " ':call_me_hand:': '🤙',\n",
              " ':call_me_hand_dark_skin_tone:': '🤙🏿',\n",
              " ':call_me_hand_light_skin_tone:': '🤙🏻',\n",
              " ':call_me_hand_medium-dark_skin_tone:': '🤙🏾',\n",
              " ':call_me_hand_medium-light_skin_tone:': '🤙🏼',\n",
              " ':call_me_hand_medium_skin_tone:': '🤙🏽',\n",
              " ':camel:': '🐪',\n",
              " ':camera:': '📷',\n",
              " ':camera_with_flash:': '📸',\n",
              " ':camping:': '🏕',\n",
              " ':camping_selector:': '🏕️',\n",
              " ':candle:': '🕯',\n",
              " ':candle_selector:': '🕯️',\n",
              " ':candy:': '🍬',\n",
              " ':canned_food:': '\\U0001f96b',\n",
              " ':canoe:': '🛶',\n",
              " ':card_file_box:': '🗃',\n",
              " ':card_file_box_selector:': '🗃️',\n",
              " ':card_index:': '📇',\n",
              " ':card_index_dividers:': '🗂',\n",
              " ':card_index_dividers_selector:': '🗂️',\n",
              " ':carousel_horse:': '🎠',\n",
              " ':carp_streamer:': '🎏',\n",
              " ':carrot:': '🥕',\n",
              " ':castle:': '🏰',\n",
              " ':cat:': '🐈',\n",
              " ':cat_face:': '🐱',\n",
              " ':cat_face_with_tears_of_joy:': '😹',\n",
              " ':cat_face_with_wry_smile:': '😼',\n",
              " ':chains:': '⛓',\n",
              " ':chains_selector:': '⛓️',\n",
              " ':chair:': '\\U0001fa91',\n",
              " ':chart_decreasing:': '📉',\n",
              " ':chart_increasing:': '📈',\n",
              " ':chart_increasing_with_yen:': '💹',\n",
              " ':check_box_with_check:': '☑️',\n",
              " ':check_mark:': '✔️',\n",
              " ':cheese_wedge:': '🧀',\n",
              " ':chequered_flag:': '🏁',\n",
              " ':cherries:': '🍒',\n",
              " ':cherry_blossom:': '🌸',\n",
              " ':chess_pawn:': '♟',\n",
              " ':chess_pawn_selector:': '♟️',\n",
              " ':chestnut:': '🌰',\n",
              " ':chicken:': '🐔',\n",
              " ':child:': '\\U0001f9d2',\n",
              " ':child_dark_skin_tone:': '\\U0001f9d2🏿',\n",
              " ':child_light_skin_tone:': '\\U0001f9d2🏻',\n",
              " ':child_medium-dark_skin_tone:': '\\U0001f9d2🏾',\n",
              " ':child_medium-light_skin_tone:': '\\U0001f9d2🏼',\n",
              " ':child_medium_skin_tone:': '\\U0001f9d2🏽',\n",
              " ':children_crossing:': '🚸',\n",
              " ':chipmunk:': '🐿',\n",
              " ':chipmunk_selector:': '🐿️',\n",
              " ':chocolate_bar:': '🍫',\n",
              " ':chopsticks:': '\\U0001f962',\n",
              " ':church:': '⛪',\n",
              " ':cigarette:': '🚬',\n",
              " ':cinema:': '🎦',\n",
              " ':circled_M:': 'Ⓜ',\n",
              " ':circled_M_selector:': 'Ⓜ️',\n",
              " ':circus_tent:': '🎪',\n",
              " ':cityscape:': '🏙',\n",
              " ':cityscape_at_dusk:': '🌆',\n",
              " ':cityscape_selector:': '🏙️',\n",
              " ':clamp:': '🗜',\n",
              " ':clamp_selector:': '🗜️',\n",
              " ':clapper_board:': '🎬',\n",
              " ':clapping_hands:': '👏',\n",
              " ':clapping_hands_dark_skin_tone:': '👏🏿',\n",
              " ':clapping_hands_light_skin_tone:': '👏🏻',\n",
              " ':clapping_hands_medium-dark_skin_tone:': '👏🏾',\n",
              " ':clapping_hands_medium-light_skin_tone:': '👏🏼',\n",
              " ':clapping_hands_medium_skin_tone:': '👏🏽',\n",
              " ':classical_building:': '🏛',\n",
              " ':classical_building_selector:': '🏛️',\n",
              " ':clinking_beer_mugs:': '🍻',\n",
              " ':clinking_glasses:': '🥂',\n",
              " ':clipboard:': '📋',\n",
              " ':clockwise_vertical_arrows:': '🔃',\n",
              " ':closed_book:': '📕',\n",
              " ':closed_mailbox_with_lowered_flag:': '📪',\n",
              " ':closed_mailbox_with_raised_flag:': '📫',\n",
              " ':closed_umbrella:': '🌂',\n",
              " ':cloud:': '☁',\n",
              " ':cloud_selector:': '☁️',\n",
              " ':cloud_with_lightning:': '🌩',\n",
              " ':cloud_with_lightning_and_rain:': '⛈',\n",
              " ':cloud_with_lightning_and_rain_selector:': '⛈️',\n",
              " ':cloud_with_lightning_selector:': '🌩️',\n",
              " ':cloud_with_rain:': '🌧',\n",
              " ':cloud_with_rain_selector:': '🌧️',\n",
              " ':cloud_with_snow:': '🌨',\n",
              " ':cloud_with_snow_selector:': '🌨️',\n",
              " ':clown_face:': '🤡',\n",
              " ':club_suit:': '♣',\n",
              " ':club_suit_selector:': '♣️',\n",
              " ':clutch_bag:': '👝',\n",
              " ':coat:': '\\U0001f9e5',\n",
              " ':cocktail_glass:': '🍸',\n",
              " ':coconut:': '\\U0001f965',\n",
              " ':coffin:': '⚰',\n",
              " ':coffin_selector:': '⚰️',\n",
              " ':cold_face:': '\\U0001f976',\n",
              " ':collision:': '💥',\n",
              " ':comet:': '☄',\n",
              " ':comet_selector:': '☄️',\n",
              " ':compass:': '\\U0001f9ed',\n",
              " ':computer_disk:': '💽',\n",
              " ':computer_mouse:': '🖱',\n",
              " ':computer_mouse_selector:': '🖱️',\n",
              " ':confetti_ball:': '🎊',\n",
              " ':confounded_face:': '😖',\n",
              " ':confused_face:': '😕',\n",
              " ':construction:': '🚧',\n",
              " ':construction_worker:': '👷',\n",
              " ':construction_worker_dark_skin_tone:': '👷🏿',\n",
              " ':construction_worker_light_skin_tone:': '👷🏻',\n",
              " ':construction_worker_medium-dark_skin_tone:': '👷🏾',\n",
              " ':construction_worker_medium-light_skin_tone:': '👷🏼',\n",
              " ':construction_worker_medium_skin_tone:': '👷🏽',\n",
              " ':control_knobs:': '🎛',\n",
              " ':control_knobs_selector:': '🎛️',\n",
              " ':convenience_store:': '🏪',\n",
              " ':cooked_rice:': '🍚',\n",
              " ':cookie:': '🍪',\n",
              " ':cooking:': '🍳',\n",
              " ':copyright:': '©',\n",
              " ':copyright_selector:': '©️',\n",
              " ':couch_and_lamp:': '🛋',\n",
              " ':couch_and_lamp_selector:': '🛋️',\n",
              " ':counterclockwise_arrows_button:': '🔄',\n",
              " ':couple_with_heart-man-man:': '👨\\u200d❤\\u200d👨',\n",
              " ':couple_with_heart-woman-man:': '👩\\u200d❤\\u200d👨',\n",
              " ':couple_with_heart-woman-woman:': '👩\\u200d❤\\u200d👩',\n",
              " ':couple_with_heart:': '💑',\n",
              " ':couple_with_heart_man_man:': '👨\\u200d❤️\\u200d👨',\n",
              " ':couple_with_heart_woman_man:': '👩\\u200d❤️\\u200d👨',\n",
              " ':couple_with_heart_woman_woman:': '👩\\u200d❤️\\u200d👩',\n",
              " ':cow:': '🐄',\n",
              " ':cow_face:': '🐮',\n",
              " ':cowboy_hat_face:': '🤠',\n",
              " ':crab:': '🦀',\n",
              " ':crayon:': '🖍',\n",
              " ':crayon_selector:': '🖍️',\n",
              " ':credit_card:': '💳',\n",
              " ':crescent_moon:': '🌙',\n",
              " ':cricket:': '\\U0001f997',\n",
              " ':cricket_game:': '🏏',\n",
              " ':crocodile:': '🐊',\n",
              " ':croissant:': '🥐',\n",
              " ':cross_mark:': '❌',\n",
              " ':cross_mark_button:': '❎',\n",
              " ':crossed_fingers:': '🤞',\n",
              " ':crossed_fingers_dark_skin_tone:': '🤞🏿',\n",
              " ':crossed_fingers_light_skin_tone:': '🤞🏻',\n",
              " ':crossed_fingers_medium-dark_skin_tone:': '🤞🏾',\n",
              " ':crossed_fingers_medium-light_skin_tone:': '🤞🏼',\n",
              " ':crossed_fingers_medium_skin_tone:': '🤞🏽',\n",
              " ':crossed_flags:': '🎌',\n",
              " ':crossed_swords:': '⚔',\n",
              " ':crossed_swords_selector:': '⚔️',\n",
              " ':crown:': '👑',\n",
              " ':crying_cat_face:': '😿',\n",
              " ':crying_face:': '😢',\n",
              " ':crystal_ball:': '🔮',\n",
              " ':cucumber:': '🥒',\n",
              " ':cup_with_straw:': '\\U0001f964',\n",
              " ':cupcake:': '\\U0001f9c1',\n",
              " ':curling_stone:': '\\U0001f94c',\n",
              " ':curly-haired_man:': '👨\\u200d\\U0001f9b1',\n",
              " ':curly-haired_woman:': '👩\\u200d\\U0001f9b1',\n",
              " ':curly_hair:': '\\U0001f9b1',\n",
              " ':curly_loop:': '➰',\n",
              " ':currency_exchange:': '💱',\n",
              " ':curry_rice:': '🍛',\n",
              " ':custard:': '🍮',\n",
              " ':customs:': '🛃',\n",
              " ':cut_of_meat:': '\\U0001f969',\n",
              " ':cyclone:': '🌀',\n",
              " ':dagger:': '🗡',\n",
              " ':dagger_selector:': '🗡️',\n",
              " ':dango:': '🍡',\n",
              " ':dark_skin_tone:': '🏿',\n",
              " ':dashing_away:': '💨',\n",
              " ':deaf_man-dark_skin_tone:': '\\U0001f9cf🏿\\u200d♂',\n",
              " ':deaf_man-dark_skin_tone_selector:': '\\U0001f9cf🏿\\u200d♂️',\n",
              " ':deaf_man-light_skin_tone:': '\\U0001f9cf🏻\\u200d♂',\n",
              " ':deaf_man-light_skin_tone_selector:': '\\U0001f9cf🏻\\u200d♂️',\n",
              " ':deaf_man-medium-dark_skin_tone:': '\\U0001f9cf🏾\\u200d♂',\n",
              " ':deaf_man-medium-dark_skin_tone_selector:': '\\U0001f9cf🏾\\u200d♂️',\n",
              " ':deaf_man-medium-light_skin_tone:': '\\U0001f9cf🏼\\u200d♂',\n",
              " ':deaf_man-medium-light_skin_tone_selector:': '\\U0001f9cf🏼\\u200d♂️',\n",
              " ':deaf_man-medium_skin_tone:': '\\U0001f9cf🏽\\u200d♂',\n",
              " ':deaf_man-medium_skin_tone_selector:': '\\U0001f9cf🏽\\u200d♂️',\n",
              " ':deaf_man:': '\\U0001f9cf\\u200d♂',\n",
              " ':deaf_man_selector:': '\\U0001f9cf\\u200d♂️',\n",
              " ':deaf_person-dark_skin_tone:': '\\U0001f9cf🏿',\n",
              " ':deaf_person-light_skin_tone:': '\\U0001f9cf🏻',\n",
              " ':deaf_person-medium-dark_skin_tone:': '\\U0001f9cf🏾',\n",
              " ':deaf_person-medium-light_skin_tone:': '\\U0001f9cf🏼',\n",
              " ':deaf_person-medium_skin_tone:': '\\U0001f9cf🏽',\n",
              " ':deaf_person:': '\\U0001f9cf',\n",
              " ':deaf_woman-dark_skin_tone:': '\\U0001f9cf🏿\\u200d♀',\n",
              " ':deaf_woman-dark_skin_tone_selector:': '\\U0001f9cf🏿\\u200d♀️',\n",
              " ':deaf_woman-light_skin_tone:': '\\U0001f9cf🏻\\u200d♀',\n",
              " ':deaf_woman-light_skin_tone_selector:': '\\U0001f9cf🏻\\u200d♀️',\n",
              " ':deaf_woman-medium-dark_skin_tone:': '\\U0001f9cf🏾\\u200d♀',\n",
              " ':deaf_woman-medium-dark_skin_tone_selector:': '\\U0001f9cf🏾\\u200d♀️',\n",
              " ':deaf_woman-medium-light_skin_tone:': '\\U0001f9cf🏼\\u200d♀',\n",
              " ':deaf_woman-medium-light_skin_tone_selector:': '\\U0001f9cf🏼\\u200d♀️',\n",
              " ':deaf_woman-medium_skin_tone:': '\\U0001f9cf🏽\\u200d♀',\n",
              " ':deaf_woman-medium_skin_tone_selector:': '\\U0001f9cf🏽\\u200d♀️',\n",
              " ':deaf_woman:': '\\U0001f9cf\\u200d♀',\n",
              " ':deaf_woman_selector:': '\\U0001f9cf\\u200d♀️',\n",
              " ':deciduous_tree:': '🌳',\n",
              " ':deer:': '🦌',\n",
              " ':delivery_truck:': '🚚',\n",
              " ':department_store:': '🏬',\n",
              " ':derelict_house:': '🏚',\n",
              " ':derelict_house_selector:': '🏚️',\n",
              " ':desert:': '🏜',\n",
              " ':desert_island:': '🏝',\n",
              " ':desert_island_selector:': '🏝️',\n",
              " ':desert_selector:': '🏜️',\n",
              " ':desktop_computer:': '🖥',\n",
              " ':desktop_computer_selector:': '🖥️',\n",
              " ':detective:': '🕵',\n",
              " ':detective_dark_skin_tone:': '🕵🏿',\n",
              " ':detective_light_skin_tone:': '🕵🏻',\n",
              " ':detective_medium-dark_skin_tone:': '🕵🏾',\n",
              " ':detective_medium-light_skin_tone:': '🕵🏼',\n",
              " ':detective_medium_skin_tone:': '🕵🏽',\n",
              " ':detective_selector:': '🕵️',\n",
              " ':diamond_suit:': '♦',\n",
              " ':diamond_suit_selector:': '♦️',\n",
              " ':diamond_with_a_dot:': '💠',\n",
              " ':dim_button:': '🔅',\n",
              " ':direct_hit:': '🎯',\n",
              " ':disappointed_face:': '😞',\n",
              " ':diving_mask:': '\\U0001f93f',\n",
              " ':diya_lamp:': '\\U0001fa94',\n",
              " ':dizzy:': '💫',\n",
              " ':dizzy_face:': '😵',\n",
              " ':dna:': '\\U0001f9ec',\n",
              " ':dog:': '🐕',\n",
              " ':dog_face:': '🐶',\n",
              " ':dollar_banknote:': '💵',\n",
              " ':dolphin:': '🐬',\n",
              " ':door:': '🚪',\n",
              " ':dotted_six-pointed_star:': '🔯',\n",
              " ':double_curly_loop:': '➿',\n",
              " ':double_exclamation_mark:': '‼',\n",
              " ':double_exclamation_mark_selector:': '‼️',\n",
              " ':doughnut:': '🍩',\n",
              " ':dove:': '🕊',\n",
              " ':dove_selector:': '🕊️',\n",
              " ':down-left_arrow:': '↙',\n",
              " ':down-left_arrow_selector:': '↙️',\n",
              " ':down-right_arrow:': '↘',\n",
              " ':down-right_arrow_selector:': '↘️',\n",
              " ':down_arrow:': '⬇',\n",
              " ':down_arrow_selector:': '⬇️',\n",
              " ':downcast_face_with_sweat:': '😓',\n",
              " ':downwards_button:': '🔽',\n",
              " ':dragon:': '🐉',\n",
              " ':dragon_face:': '🐲',\n",
              " ':dress:': '👗',\n",
              " ':drooling_face:': '🤤',\n",
              " ':drop_of_blood:': '\\U0001fa78',\n",
              " ':droplet:': '💧',\n",
              " ':drum:': '🥁',\n",
              " ':duck:': '🦆',\n",
              " ':dumpling:': '\\U0001f95f',\n",
              " ':dvd:': '📀',\n",
              " ':e-mail:': '📧',\n",
              " ':eagle:': '🦅',\n",
              " ':ear:': '👂',\n",
              " ':ear_dark_skin_tone:': '👂🏿',\n",
              " ':ear_light_skin_tone:': '👂🏻',\n",
              " ':ear_medium-dark_skin_tone:': '👂🏾',\n",
              " ':ear_medium-light_skin_tone:': '👂🏼',\n",
              " ':ear_medium_skin_tone:': '👂🏽',\n",
              " ':ear_of_corn:': '🌽',\n",
              " ':ear_with_hearing_aid-dark_skin_tone:': '\\U0001f9bb🏿',\n",
              " ':ear_with_hearing_aid-light_skin_tone:': '\\U0001f9bb🏻',\n",
              " ':ear_with_hearing_aid-medium-dark_skin_tone:': '\\U0001f9bb🏾',\n",
              " ':ear_with_hearing_aid-medium-light_skin_tone:': '\\U0001f9bb🏼',\n",
              " ':ear_with_hearing_aid-medium_skin_tone:': '\\U0001f9bb🏽',\n",
              " ':ear_with_hearing_aid:': '\\U0001f9bb',\n",
              " ':egg:': '🥚',\n",
              " ':eggplant:': '🍆',\n",
              " ':eight-pointed_star:': '✴',\n",
              " ':eight-pointed_star_selector:': '✴️',\n",
              " ':eight-spoked_asterisk:': '✳',\n",
              " ':eight-spoked_asterisk_selector:': '✳️',\n",
              " ':eight-thirty:': '🕣',\n",
              " ':eight_o’clock:': '🕗',\n",
              " ':eject_button:': '⏏',\n",
              " ':eject_button_selector:': '⏏️',\n",
              " ':electric_plug:': '🔌',\n",
              " ':elephant:': '🐘',\n",
              " ':eleven-thirty:': '🕦',\n",
              " ':eleven_o’clock:': '🕚',\n",
              " ':elf:': '\\U0001f9dd',\n",
              " ':elf_dark_skin_tone:': '\\U0001f9dd🏿',\n",
              " ':elf_light_skin_tone:': '\\U0001f9dd🏻',\n",
              " ':elf_medium-dark_skin_tone:': '\\U0001f9dd🏾',\n",
              " ':elf_medium-light_skin_tone:': '\\U0001f9dd🏼',\n",
              " ':elf_medium_skin_tone:': '\\U0001f9dd🏽',\n",
              " ':envelope:': '✉',\n",
              " ':envelope_selector:': '✉️',\n",
              " ':envelope_with_arrow:': '📩',\n",
              " ':euro_banknote:': '💶',\n",
              " ':evergreen_tree:': '🌲',\n",
              " ':ewe:': '🐑',\n",
              " ':exclamation_mark:': '❗',\n",
              " ':exclamation_question_mark:': '⁉',\n",
              " ':exclamation_question_mark_selector:': '⁉️',\n",
              " ':exploding_head:': '\\U0001f92f',\n",
              " ':expressionless_face:': '😑',\n",
              " ':eye:': '👁',\n",
              " ':eye_in_speech_bubble:': '👁\\u200d🗨',\n",
              " ':eye_in_speech_bubble_2:': '👁\\u200d🗨️',\n",
              " ':eye_in_speech_bubble_3:': '👁️\\u200d🗨️',\n",
              " ':eye_in_speech_bubble_selector:': '👁️\\u200d🗨',\n",
              " ':eye_selector:': '👁️',\n",
              " ':eyes:': '👀',\n",
              " ':face_blowing_a_kiss:': '😘',\n",
              " ':face_savoring_food:': '😋',\n",
              " ':face_screaming_in_fear:': '😱',\n",
              " ':face_vomiting:': '\\U0001f92e',\n",
              " ':face_with_hand_over_mouth:': '\\U0001f92d',\n",
              " ':face_with_head-bandage:': '🤕',\n",
              " ':face_with_medical_mask:': '😷',\n",
              " ':face_with_monocle:': '\\U0001f9d0',\n",
              " ':face_with_open_mouth:': '😮',\n",
              " ':face_with_raised_eyebrow:': '\\U0001f928',\n",
              " ':face_with_rolling_eyes:': '🙄',\n",
              " ':face_with_steam_from_nose:': '😤',\n",
              " ':face_with_symbols_on_mouth:': '\\U0001f92c',\n",
              " ':face_with_tears_of_joy:': '😂',\n",
              " ':face_with_thermometer:': '🤒',\n",
              " ':face_with_tongue:': '😛',\n",
              " ':face_without_mouth:': '😶',\n",
              " ':factory:': '🏭',\n",
              " ':fairy:': '\\U0001f9da',\n",
              " ':fairy_dark_skin_tone:': '\\U0001f9da🏿',\n",
              " ':fairy_light_skin_tone:': '\\U0001f9da🏻',\n",
              " ':fairy_medium-dark_skin_tone:': '\\U0001f9da🏾',\n",
              " ':fairy_medium-light_skin_tone:': '\\U0001f9da🏼',\n",
              " ':fairy_medium_skin_tone:': '\\U0001f9da🏽',\n",
              " ':falafel:': '\\U0001f9c6',\n",
              " ':fallen_leaf:': '🍂',\n",
              " ':family:': '👪',\n",
              " ':family_man_boy:': '👨\\u200d👦',\n",
              " ':family_man_boy_boy:': '👨\\u200d👦\\u200d👦',\n",
              " ':family_man_girl:': '👨\\u200d👧',\n",
              " ':family_man_girl_boy:': '👨\\u200d👧\\u200d👦',\n",
              " ':family_man_girl_girl:': '👨\\u200d👧\\u200d👧',\n",
              " ':family_man_man_boy:': '👨\\u200d👨\\u200d👦',\n",
              " ':family_man_man_boy_boy:': '👨\\u200d👨\\u200d👦\\u200d👦',\n",
              " ':family_man_man_girl:': '👨\\u200d👨\\u200d👧',\n",
              " ':family_man_man_girl_boy:': '👨\\u200d👨\\u200d👧\\u200d👦',\n",
              " ':family_man_man_girl_girl:': '👨\\u200d👨\\u200d👧\\u200d👧',\n",
              " ':family_man_woman_boy:': '👨\\u200d👩\\u200d👦',\n",
              " ':family_man_woman_boy_boy:': '👨\\u200d👩\\u200d👦\\u200d👦',\n",
              " ':family_man_woman_girl:': '👨\\u200d👩\\u200d👧',\n",
              " ':family_man_woman_girl_boy:': '👨\\u200d👩\\u200d👧\\u200d👦',\n",
              " ':family_man_woman_girl_girl:': '👨\\u200d👩\\u200d👧\\u200d👧',\n",
              " ':family_woman_boy:': '👩\\u200d👦',\n",
              " ':family_woman_boy_boy:': '👩\\u200d👦\\u200d👦',\n",
              " ':family_woman_girl:': '👩\\u200d👧',\n",
              " ':family_woman_girl_boy:': '👩\\u200d👧\\u200d👦',\n",
              " ':family_woman_girl_girl:': '👩\\u200d👧\\u200d👧',\n",
              " ':family_woman_woman_boy:': '👩\\u200d👩\\u200d👦',\n",
              " ':family_woman_woman_boy_boy:': '👩\\u200d👩\\u200d👦\\u200d👦',\n",
              " ':family_woman_woman_girl:': '👩\\u200d👩\\u200d👧',\n",
              " ':family_woman_woman_girl_boy:': '👩\\u200d👩\\u200d👧\\u200d👦',\n",
              " ':family_woman_woman_girl_girl:': '👩\\u200d👩\\u200d👧\\u200d👧',\n",
              " ':fast-forward_button:': '⏩',\n",
              " ':fast_down_button:': '⏬',\n",
              " ':fast_reverse_button:': '⏪',\n",
              " ':fast_up_button:': '⏫',\n",
              " ':fax_machine:': '📠',\n",
              " ':fearful_face:': '😨',\n",
              " ':female_sign:': '♀',\n",
              " ':female_sign_selector:': '♀️',\n",
              " ':ferris_wheel:': '🎡',\n",
              " ':ferry:': '⛴',\n",
              " ':ferry_selector:': '⛴️',\n",
              " ':field_hockey:': '🏑',\n",
              " ':file_cabinet:': '🗄',\n",
              " ':file_cabinet_selector:': '🗄️',\n",
              " ':file_folder:': '📁',\n",
              " ':film_frames:': '🎞',\n",
              " ':film_frames_selector:': '🎞️',\n",
              " ':film_projector:': '📽',\n",
              " ':film_projector_selector:': '📽️',\n",
              " ':fire:': '🔥',\n",
              " ':fire_engine:': '🚒',\n",
              " ':fire_extinguisher:': '\\U0001f9ef',\n",
              " ':firecracker:': '\\U0001f9e8',\n",
              " ':fireworks:': '🎆',\n",
              " ':first_quarter_moon:': '🌓',\n",
              " ':first_quarter_moon_face:': '🌛',\n",
              " ':fish:': '🐟',\n",
              " ':fish_cake_with_swirl:': '🍥',\n",
              " ':fishing_pole:': '🎣',\n",
              " ':five-thirty:': '🕠',\n",
              " ':five_o’clock:': '🕔',\n",
              " ':flag_in_hole:': '⛳',\n",
              " ':flamingo:': '\\U0001f9a9',\n",
              " ':flashlight:': '🔦',\n",
              " ':flat_shoe:': '\\U0001f97f',\n",
              " ':fleur-de-lis:': '⚜',\n",
              " ':fleur-de-lis_selector:': '⚜️',\n",
              " ':flexed_biceps:': '💪',\n",
              " ':flexed_biceps_dark_skin_tone:': '💪🏿',\n",
              " ':flexed_biceps_light_skin_tone:': '💪🏻',\n",
              " ':flexed_biceps_medium-dark_skin_tone:': '💪🏾',\n",
              " ':flexed_biceps_medium-light_skin_tone:': '💪🏼',\n",
              " ':flexed_biceps_medium_skin_tone:': '💪🏽',\n",
              " ':floppy_disk:': '💾',\n",
              " ':flower_playing_cards:': '🎴',\n",
              " ':flushed_face:': '😳',\n",
              " ...}"
            ]
          },
          "metadata": {
            "tags": []
          },
          "execution_count": 16
        }
      ]
    },
    {
      "cell_type": "code",
      "metadata": {
        "id": "PMNu2ODVCDPd",
        "colab_type": "code",
        "colab": {}
      },
      "source": [
        "emoji_dictionary = {\n",
        "    \"0\" : \"\\u2764\\uFE0F\",\n",
        "    \"1\" : \":baseball:\",\n",
        "    \"2\" : \":beaming_face_with_smiling_eyes:\",\n",
        "    \"3\" : \":downcast_face_with_sweat:\",\n",
        "    \"4\" : \":fork_and_knife:\"\n",
        "}"
      ],
      "execution_count": 17,
      "outputs": []
    },
    {
      "cell_type": "code",
      "metadata": {
        "id": "pEJrPbvQCDRv",
        "colab_type": "code",
        "colab": {
          "base_uri": "https://localhost:8080/",
          "height": 35
        },
        "outputId": "dc9ce57b-58aa-4254-a000-3cc904556fa1"
      },
      "source": [
        "emoji.emojize(\"\\u2764\\uFE0F\")"
      ],
      "execution_count": 18,
      "outputs": [
        {
          "output_type": "execute_result",
          "data": {
            "application/vnd.google.colaboratory.intrinsic+json": {
              "type": "string"
            },
            "text/plain": [
              "'❤️'"
            ]
          },
          "metadata": {
            "tags": []
          },
          "execution_count": 18
        }
      ]
    },
    {
      "cell_type": "code",
      "metadata": {
        "id": "VObQw8w0CDUS",
        "colab_type": "code",
        "colab": {
          "base_uri": "https://localhost:8080/",
          "height": 104
        },
        "outputId": "3d9d0500-e295-46cd-c1ed-6cd4e02cabfb"
      },
      "source": [
        "for e in emoji_dictionary.values():\n",
        "    print(emoji.emojize(e))"
      ],
      "execution_count": 19,
      "outputs": [
        {
          "output_type": "stream",
          "text": [
            "❤️\n",
            "⚾\n",
            "😁\n",
            "😓\n",
            "🍴\n"
          ],
          "name": "stdout"
        }
      ]
    },
    {
      "cell_type": "code",
      "metadata": {
        "id": "Cpwhd5A7CDXp",
        "colab_type": "code",
        "colab": {
          "base_uri": "https://localhost:8080/",
          "height": 202
        },
        "outputId": "98c9bf72-3f09-46cb-b3bf-e42b0c9bd93f"
      },
      "source": [
        "train.head()"
      ],
      "execution_count": 43,
      "outputs": [
        {
          "output_type": "execute_result",
          "data": {
            "text/html": [
              "<div>\n",
              "<style scoped>\n",
              "    .dataframe tbody tr th:only-of-type {\n",
              "        vertical-align: middle;\n",
              "    }\n",
              "\n",
              "    .dataframe tbody tr th {\n",
              "        vertical-align: top;\n",
              "    }\n",
              "\n",
              "    .dataframe thead th {\n",
              "        text-align: right;\n",
              "    }\n",
              "</style>\n",
              "<table border=\"1\" class=\"dataframe\">\n",
              "  <thead>\n",
              "    <tr style=\"text-align: right;\">\n",
              "      <th></th>\n",
              "      <th>0</th>\n",
              "      <th>1</th>\n",
              "      <th>2</th>\n",
              "      <th>3</th>\n",
              "    </tr>\n",
              "  </thead>\n",
              "  <tbody>\n",
              "    <tr>\n",
              "      <th>0</th>\n",
              "      <td>never talk to me again</td>\n",
              "      <td>3</td>\n",
              "      <td>NaN</td>\n",
              "      <td>NaN</td>\n",
              "    </tr>\n",
              "    <tr>\n",
              "      <th>1</th>\n",
              "      <td>I am proud of your achievements</td>\n",
              "      <td>2</td>\n",
              "      <td>NaN</td>\n",
              "      <td>NaN</td>\n",
              "    </tr>\n",
              "    <tr>\n",
              "      <th>2</th>\n",
              "      <td>It is the worst day in my life</td>\n",
              "      <td>3</td>\n",
              "      <td>NaN</td>\n",
              "      <td>NaN</td>\n",
              "    </tr>\n",
              "    <tr>\n",
              "      <th>3</th>\n",
              "      <td>Miss you so much</td>\n",
              "      <td>0</td>\n",
              "      <td>NaN</td>\n",
              "      <td>[0]</td>\n",
              "    </tr>\n",
              "    <tr>\n",
              "      <th>4</th>\n",
              "      <td>food is life</td>\n",
              "      <td>4</td>\n",
              "      <td>NaN</td>\n",
              "      <td>NaN</td>\n",
              "    </tr>\n",
              "  </tbody>\n",
              "</table>\n",
              "</div>"
            ],
            "text/plain": [
              "                                 0  1   2     3\n",
              "0           never talk to me again  3 NaN   NaN\n",
              "1  I am proud of your achievements  2 NaN   NaN\n",
              "2   It is the worst day in my life  3 NaN   NaN\n",
              "3                 Miss you so much  0 NaN   [0]\n",
              "4                     food is life  4 NaN   NaN"
            ]
          },
          "metadata": {
            "tags": []
          },
          "execution_count": 43
        }
      ]
    },
    {
      "cell_type": "code",
      "metadata": {
        "id": "v4imiEuiCc6W",
        "colab_type": "code",
        "colab": {}
      },
      "source": [
        "data = train.values"
      ],
      "execution_count": 44,
      "outputs": []
    },
    {
      "cell_type": "code",
      "metadata": {
        "id": "0jtBAwQZCc8k",
        "colab_type": "code",
        "colab": {
          "base_uri": "https://localhost:8080/",
          "height": 191
        },
        "outputId": "59d820c3-4165-46e5-ec85-c5489837a8b4"
      },
      "source": [
        "for i in range(10):\n",
        "    print(data[i][0], emoji.emojize(emoji_dictionary[str(data[i][1])]))"
      ],
      "execution_count": 45,
      "outputs": [
        {
          "output_type": "stream",
          "text": [
            "never talk to me again 😓\n",
            "I am proud of your achievements 😁\n",
            "It is the worst day in my life 😓\n",
            "Miss you so much ❤️\n",
            "food is life 🍴\n",
            "I love you mum ❤️\n",
            "Stop saying bullshit 😓\n",
            "congratulations on your acceptance 😁\n",
            "The assignment is too long  😓\n",
            "I want to go play ⚾\n"
          ],
          "name": "stdout"
        }
      ]
    },
    {
      "cell_type": "code",
      "metadata": {
        "id": "Q9kuraLvCc-1",
        "colab_type": "code",
        "colab": {}
      },
      "source": [
        "X_train = train[0].values\n",
        "X_test = test[0].values"
      ],
      "execution_count": 46,
      "outputs": []
    },
    {
      "cell_type": "code",
      "metadata": {
        "id": "L-g34YjiCdA7",
        "colab_type": "code",
        "colab": {}
      },
      "source": [
        "y_train = train[1].values\n",
        "y_test = test[1].values"
      ],
      "execution_count": 47,
      "outputs": []
    },
    {
      "cell_type": "code",
      "metadata": {
        "id": "c2p3bZuGCdDN",
        "colab_type": "code",
        "colab": {}
      },
      "source": [
        "from keras.utils import to_categorical"
      ],
      "execution_count": 25,
      "outputs": []
    },
    {
      "cell_type": "code",
      "metadata": {
        "id": "ZCGJ-6ydCdGa",
        "colab_type": "code",
        "colab": {
          "base_uri": "https://localhost:8080/",
          "height": 104
        },
        "outputId": "a50ffbb0-57ba-41bb-c86d-315d9dac3abe"
      },
      "source": [
        "print(X_train[0:10])"
      ],
      "execution_count": 48,
      "outputs": [
        {
          "output_type": "stream",
          "text": [
            "['never talk to me again' 'I am proud of your achievements'\n",
            " 'It is the worst day in my life' 'Miss you so much' 'food is life'\n",
            " 'I love you mum' 'Stop saying bullshit'\n",
            " 'congratulations on your acceptance' 'The assignment is too long '\n",
            " 'I want to go play']\n"
          ],
          "name": "stdout"
        }
      ]
    },
    {
      "cell_type": "code",
      "metadata": {
        "id": "P8mkZ5qfDe06",
        "colab_type": "code",
        "colab": {}
      },
      "source": [
        "y_train = to_categorical(y_train)\n",
        "y_test = to_categorical(y_test)"
      ],
      "execution_count": 49,
      "outputs": []
    },
    {
      "cell_type": "code",
      "metadata": {
        "id": "gZYfBYX1De_Q",
        "colab_type": "code",
        "colab": {
          "base_uri": "https://localhost:8080/",
          "height": 35
        },
        "outputId": "5123de73-e51f-4de7-930e-772a8c906826"
      },
      "source": [
        "print(y_train[3])"
      ],
      "execution_count": 32,
      "outputs": [
        {
          "output_type": "stream",
          "text": [
            "[1. 0. 0. 0. 0.]\n"
          ],
          "name": "stdout"
        }
      ]
    },
    {
      "cell_type": "code",
      "metadata": {
        "id": "AIaG5oRDDfBr",
        "colab_type": "code",
        "colab": {
          "base_uri": "https://localhost:8080/",
          "height": 35
        },
        "outputId": "9ec4ea89-ff62-40ed-c4fd-7cdd9cec581f"
      },
      "source": [
        "X_train.shape, y_train.shape"
      ],
      "execution_count": 50,
      "outputs": [
        {
          "output_type": "execute_result",
          "data": {
            "text/plain": [
              "((132,), (132, 5))"
            ]
          },
          "metadata": {
            "tags": []
          },
          "execution_count": 50
        }
      ]
    },
    {
      "cell_type": "markdown",
      "metadata": {
        "id": "QNPYMfFEI6HH",
        "colab_type": "text"
      },
      "source": [
        "***Get*** **Embeddings**"
      ]
    },
    {
      "cell_type": "code",
      "metadata": {
        "id": "dEowc43MDfD-",
        "colab_type": "code",
        "colab": {}
      },
      "source": [
        "embeddings = {}\n",
        "\n",
        "with open('/content/drive/My Drive/Flickr_Data/Flickr_Data/glove.6B.50d.txt', 'r', encoding='utf-8') as f:\n",
        "    for line in f:\n",
        "        values = line.split()\n",
        "        word = values[0]\n",
        "        coeffs = np.array(values[1:], dtype=\"float32\")\n",
        "        embeddings[word] = coeffs"
      ],
      "execution_count": 34,
      "outputs": []
    },
    {
      "cell_type": "code",
      "metadata": {
        "id": "WElfIY4jDfGT",
        "colab_type": "code",
        "colab": {
          "base_uri": "https://localhost:8080/",
          "height": 208
        },
        "outputId": "e9984dc4-4e6a-4188-dfcf-871e08d1d4d9"
      },
      "source": [
        "embeddings['today']"
      ],
      "execution_count": 35,
      "outputs": [
        {
          "output_type": "execute_result",
          "data": {
            "text/plain": [
              "array([ 2.7751e-04,  4.2673e-01, -8.2938e-02,  2.7601e-01,  6.4721e-01,\n",
              "       -9.1728e-01, -6.3471e-01, -2.8023e-01, -6.6653e-01, -2.8436e-01,\n",
              "       -6.4249e-02, -4.3626e-01, -1.0830e-01, -3.5818e-01,  7.2311e-01,\n",
              "        6.5368e-01, -2.9573e-01,  1.2007e-01, -2.9959e-02, -2.0594e-01,\n",
              "        2.0017e-01,  1.6421e-01,  1.5202e-01, -2.4855e-02,  5.2887e-01,\n",
              "       -1.3625e+00, -5.6036e-01,  1.7777e-01, -9.1003e-02,  9.7549e-02,\n",
              "        3.5102e+00,  1.0631e-01,  6.5602e-02, -8.0777e-02, -1.2553e-01,\n",
              "       -6.9932e-01, -1.5068e-02,  3.9353e-01, -2.8195e-03,  2.0635e-01,\n",
              "       -4.7726e-01, -1.2639e-01,  2.9399e-01,  1.0000e-01,  3.4015e-04,\n",
              "        6.2769e-01, -4.5344e-01,  3.9615e-01,  1.8857e-02,  1.7536e-01],\n",
              "      dtype=float32)"
            ]
          },
          "metadata": {
            "tags": []
          },
          "execution_count": 35
        }
      ]
    },
    {
      "cell_type": "code",
      "metadata": {
        "id": "422G2PGcDfJb",
        "colab_type": "code",
        "colab": {}
      },
      "source": [
        "def getOutputEmbeddings(X):\n",
        "    maxlen = 10\n",
        "    embedding_matrix_output = np.zeros((X.shape[0], maxlen, 50 ))\n",
        "    print(X.shape[0])\n",
        "    for i in range(X.shape[0]):\n",
        "        X[i] = X[i].split()\n",
        "        \n",
        "        for j in range(len(X[i])):\n",
        "            embedding_matrix_output[i][j] = embeddings[X[i][j].lower()]\n",
        "            \n",
        "    return embedding_matrix_output"
      ],
      "execution_count": 51,
      "outputs": []
    },
    {
      "cell_type": "code",
      "metadata": {
        "id": "xID_iF28EHpy",
        "colab_type": "code",
        "colab": {
          "base_uri": "https://localhost:8080/",
          "height": 35
        },
        "outputId": "664709a5-a6c0-45f5-d9f8-d8b77d2c6a87"
      },
      "source": [
        "X_train.shape[0]"
      ],
      "execution_count": 52,
      "outputs": [
        {
          "output_type": "execute_result",
          "data": {
            "text/plain": [
              "132"
            ]
          },
          "metadata": {
            "tags": []
          },
          "execution_count": 52
        }
      ]
    },
    {
      "cell_type": "code",
      "metadata": {
        "id": "exzbAPhpEHuL",
        "colab_type": "code",
        "colab": {
          "base_uri": "https://localhost:8080/",
          "height": 52
        },
        "outputId": "2e01e8ae-f1b2-4bb9-b6a8-2674bd5ccf39"
      },
      "source": [
        "X_train = getOutputEmbeddings(X_train)\n",
        "X_test = getOutputEmbeddings(X_test)"
      ],
      "execution_count": 53,
      "outputs": [
        {
          "output_type": "stream",
          "text": [
            "132\n",
            "56\n"
          ],
          "name": "stdout"
        }
      ]
    },
    {
      "cell_type": "code",
      "metadata": {
        "id": "cW5u97w-EHwS",
        "colab_type": "code",
        "colab": {
          "base_uri": "https://localhost:8080/",
          "height": 35
        },
        "outputId": "efbd6626-d578-429f-d5c8-84292cd53c20"
      },
      "source": [
        "X_train.shape"
      ],
      "execution_count": 54,
      "outputs": [
        {
          "output_type": "execute_result",
          "data": {
            "text/plain": [
              "(132, 10, 50)"
            ]
          },
          "metadata": {
            "tags": []
          },
          "execution_count": 54
        }
      ]
    },
    {
      "cell_type": "code",
      "metadata": {
        "id": "_WZna8qREHym",
        "colab_type": "code",
        "colab": {}
      },
      "source": [
        "from keras.layers import *\n",
        "from keras.models import Sequential\n"
      ],
      "execution_count": 55,
      "outputs": []
    },
    {
      "cell_type": "code",
      "metadata": {
        "id": "tivVbj3SHIsd",
        "colab_type": "code",
        "colab": {
          "base_uri": "https://localhost:8080/",
          "height": 329
        },
        "outputId": "52f3a362-2360-4a23-cd68-f338a462dd33"
      },
      "source": [
        "model = Sequential()\n",
        "model.add(LSTM(64, input_shape= (10,50), return_sequences= True ))\n",
        "model.add(Dropout(0.3))\n",
        "model.add(LSTM(64))\n",
        "model.add(Dropout(0.4))\n",
        "model.add(Dense(5, activation='softmax'))\n",
        "model.summary()"
      ],
      "execution_count": 56,
      "outputs": [
        {
          "output_type": "stream",
          "text": [
            "Model: \"sequential\"\n",
            "_________________________________________________________________\n",
            "Layer (type)                 Output Shape              Param #   \n",
            "=================================================================\n",
            "lstm (LSTM)                  (None, 10, 64)            29440     \n",
            "_________________________________________________________________\n",
            "dropout (Dropout)            (None, 10, 64)            0         \n",
            "_________________________________________________________________\n",
            "lstm_1 (LSTM)                (None, 64)                33024     \n",
            "_________________________________________________________________\n",
            "dropout_1 (Dropout)          (None, 64)                0         \n",
            "_________________________________________________________________\n",
            "dense (Dense)                (None, 5)                 325       \n",
            "=================================================================\n",
            "Total params: 62,789\n",
            "Trainable params: 62,789\n",
            "Non-trainable params: 0\n",
            "_________________________________________________________________\n"
          ],
          "name": "stdout"
        }
      ]
    },
    {
      "cell_type": "code",
      "metadata": {
        "id": "w-cd69OcHIup",
        "colab_type": "code",
        "colab": {}
      },
      "source": [
        "model.compile(optimizer='adam', loss='categorical_crossentropy', metrics= ['acc'])"
      ],
      "execution_count": 57,
      "outputs": []
    },
    {
      "cell_type": "code",
      "metadata": {
        "id": "GUPfTKUGHIxH",
        "colab_type": "code",
        "colab": {
          "base_uri": "https://localhost:8080/",
          "height": 1000
        },
        "outputId": "7af8cfbb-c4fc-46c8-dc63-214d5923485b"
      },
      "source": [
        "hist = model.fit(X_train, y_train, epochs=40, batch_size=32, shuffle=True, validation_split=0.1)"
      ],
      "execution_count": 58,
      "outputs": [
        {
          "output_type": "stream",
          "text": [
            "Epoch 1/40\n",
            "4/4 [==============================] - 1s 173ms/step - loss: 1.5933 - acc: 0.2458 - val_loss: 1.6032 - val_acc: 0.2143\n",
            "Epoch 2/40\n",
            "4/4 [==============================] - 0s 12ms/step - loss: 1.5315 - acc: 0.4492 - val_loss: 1.6298 - val_acc: 0.1429\n",
            "Epoch 3/40\n",
            "4/4 [==============================] - 0s 11ms/step - loss: 1.5002 - acc: 0.3729 - val_loss: 1.6512 - val_acc: 0.1429\n",
            "Epoch 4/40\n",
            "4/4 [==============================] - 0s 11ms/step - loss: 1.4569 - acc: 0.4407 - val_loss: 1.6383 - val_acc: 0.2143\n",
            "Epoch 5/40\n",
            "4/4 [==============================] - 0s 11ms/step - loss: 1.4398 - acc: 0.4407 - val_loss: 1.6022 - val_acc: 0.2143\n",
            "Epoch 6/40\n",
            "4/4 [==============================] - 0s 12ms/step - loss: 1.3869 - acc: 0.4237 - val_loss: 1.5401 - val_acc: 0.2143\n",
            "Epoch 7/40\n",
            "4/4 [==============================] - 0s 14ms/step - loss: 1.3113 - acc: 0.4661 - val_loss: 1.4537 - val_acc: 0.3571\n",
            "Epoch 8/40\n",
            "4/4 [==============================] - 0s 11ms/step - loss: 1.2160 - acc: 0.5085 - val_loss: 1.4255 - val_acc: 0.2857\n",
            "Epoch 9/40\n",
            "4/4 [==============================] - 0s 11ms/step - loss: 1.1436 - acc: 0.6017 - val_loss: 1.4208 - val_acc: 0.2857\n",
            "Epoch 10/40\n",
            "4/4 [==============================] - 0s 12ms/step - loss: 1.0236 - acc: 0.6441 - val_loss: 1.2479 - val_acc: 0.5714\n",
            "Epoch 11/40\n",
            "4/4 [==============================] - 0s 15ms/step - loss: 0.9345 - acc: 0.6525 - val_loss: 1.1837 - val_acc: 0.6429\n",
            "Epoch 12/40\n",
            "4/4 [==============================] - 0s 13ms/step - loss: 0.7834 - acc: 0.7373 - val_loss: 1.3305 - val_acc: 0.5714\n",
            "Epoch 13/40\n",
            "4/4 [==============================] - 0s 14ms/step - loss: 0.6927 - acc: 0.7966 - val_loss: 1.1613 - val_acc: 0.7143\n",
            "Epoch 14/40\n",
            "4/4 [==============================] - 0s 13ms/step - loss: 0.6437 - acc: 0.8305 - val_loss: 1.2670 - val_acc: 0.5714\n",
            "Epoch 15/40\n",
            "4/4 [==============================] - 0s 12ms/step - loss: 0.5435 - acc: 0.8390 - val_loss: 1.0969 - val_acc: 0.6429\n",
            "Epoch 16/40\n",
            "4/4 [==============================] - 0s 11ms/step - loss: 0.5932 - acc: 0.8305 - val_loss: 1.4958 - val_acc: 0.5714\n",
            "Epoch 17/40\n",
            "4/4 [==============================] - 0s 11ms/step - loss: 0.4509 - acc: 0.8305 - val_loss: 1.2771 - val_acc: 0.5714\n",
            "Epoch 18/40\n",
            "4/4 [==============================] - 0s 12ms/step - loss: 0.4218 - acc: 0.8559 - val_loss: 1.0384 - val_acc: 0.7143\n",
            "Epoch 19/40\n",
            "4/4 [==============================] - 0s 12ms/step - loss: 0.3688 - acc: 0.8729 - val_loss: 1.4107 - val_acc: 0.5714\n",
            "Epoch 20/40\n",
            "4/4 [==============================] - 0s 13ms/step - loss: 0.3222 - acc: 0.9237 - val_loss: 1.0878 - val_acc: 0.6429\n",
            "Epoch 21/40\n",
            "4/4 [==============================] - 0s 12ms/step - loss: 0.2600 - acc: 0.9068 - val_loss: 1.3617 - val_acc: 0.5714\n",
            "Epoch 22/40\n",
            "4/4 [==============================] - 0s 11ms/step - loss: 0.2764 - acc: 0.9153 - val_loss: 1.2097 - val_acc: 0.6429\n",
            "Epoch 23/40\n",
            "4/4 [==============================] - 0s 11ms/step - loss: 0.2462 - acc: 0.9237 - val_loss: 1.0579 - val_acc: 0.7143\n",
            "Epoch 24/40\n",
            "4/4 [==============================] - 0s 14ms/step - loss: 0.1800 - acc: 0.9661 - val_loss: 1.4240 - val_acc: 0.6429\n",
            "Epoch 25/40\n",
            "4/4 [==============================] - 0s 14ms/step - loss: 0.1609 - acc: 0.9576 - val_loss: 1.3773 - val_acc: 0.5714\n",
            "Epoch 26/40\n",
            "4/4 [==============================] - 0s 11ms/step - loss: 0.1706 - acc: 0.9576 - val_loss: 1.1151 - val_acc: 0.6429\n",
            "Epoch 27/40\n",
            "4/4 [==============================] - 0s 11ms/step - loss: 0.1963 - acc: 0.9322 - val_loss: 1.4038 - val_acc: 0.5714\n",
            "Epoch 28/40\n",
            "4/4 [==============================] - 0s 13ms/step - loss: 0.1205 - acc: 0.9746 - val_loss: 0.9686 - val_acc: 0.7143\n",
            "Epoch 29/40\n",
            "4/4 [==============================] - 0s 12ms/step - loss: 0.1605 - acc: 0.9492 - val_loss: 1.6102 - val_acc: 0.5714\n",
            "Epoch 30/40\n",
            "4/4 [==============================] - 0s 12ms/step - loss: 0.1673 - acc: 0.9576 - val_loss: 0.9357 - val_acc: 0.6429\n",
            "Epoch 31/40\n",
            "4/4 [==============================] - 0s 12ms/step - loss: 0.1292 - acc: 0.9661 - val_loss: 1.0310 - val_acc: 0.6429\n",
            "Epoch 32/40\n",
            "4/4 [==============================] - 0s 12ms/step - loss: 0.0839 - acc: 0.9746 - val_loss: 1.3597 - val_acc: 0.6429\n",
            "Epoch 33/40\n",
            "4/4 [==============================] - 0s 11ms/step - loss: 0.1430 - acc: 0.9661 - val_loss: 1.1790 - val_acc: 0.6429\n",
            "Epoch 34/40\n",
            "4/4 [==============================] - 0s 11ms/step - loss: 0.0765 - acc: 0.9746 - val_loss: 0.7563 - val_acc: 0.7143\n",
            "Epoch 35/40\n",
            "4/4 [==============================] - 0s 11ms/step - loss: 0.1025 - acc: 0.9661 - val_loss: 1.2481 - val_acc: 0.6429\n",
            "Epoch 36/40\n",
            "4/4 [==============================] - 0s 11ms/step - loss: 0.0608 - acc: 0.9831 - val_loss: 1.0241 - val_acc: 0.6429\n",
            "Epoch 37/40\n",
            "4/4 [==============================] - 0s 12ms/step - loss: 0.0680 - acc: 0.9746 - val_loss: 1.3802 - val_acc: 0.5714\n",
            "Epoch 38/40\n",
            "4/4 [==============================] - 0s 13ms/step - loss: 0.0540 - acc: 0.9831 - val_loss: 1.4295 - val_acc: 0.5000\n",
            "Epoch 39/40\n",
            "4/4 [==============================] - 0s 13ms/step - loss: 0.0725 - acc: 0.9746 - val_loss: 0.7917 - val_acc: 0.6429\n",
            "Epoch 40/40\n",
            "4/4 [==============================] - 0s 13ms/step - loss: 0.0527 - acc: 0.9915 - val_loss: 1.4057 - val_acc: 0.5714\n"
          ],
          "name": "stdout"
        }
      ]
    },
    {
      "cell_type": "code",
      "metadata": {
        "id": "fvVTGSTwHI1k",
        "colab_type": "code",
        "colab": {
          "base_uri": "https://localhost:8080/",
          "height": 52
        },
        "outputId": "ed793864-3e98-469a-e963-dc3eb68b97e4"
      },
      "source": [
        "model.evaluate(X_train, y_train)"
      ],
      "execution_count": 59,
      "outputs": [
        {
          "output_type": "stream",
          "text": [
            "5/5 [==============================] - 0s 3ms/step - loss: 0.1707 - acc: 0.9470\n"
          ],
          "name": "stdout"
        },
        {
          "output_type": "execute_result",
          "data": {
            "text/plain": [
              "[0.17071790993213654, 0.9469696879386902]"
            ]
          },
          "metadata": {
            "tags": []
          },
          "execution_count": 59
        }
      ]
    },
    {
      "cell_type": "code",
      "metadata": {
        "id": "KMCXsBtnHI36",
        "colab_type": "code",
        "colab": {
          "base_uri": "https://localhost:8080/",
          "height": 52
        },
        "outputId": "ec2d2d24-c90a-4f0b-ae53-6df26763982e"
      },
      "source": [
        "model.evaluate(X_test, y_test)"
      ],
      "execution_count": 60,
      "outputs": [
        {
          "output_type": "stream",
          "text": [
            "2/2 [==============================] - 0s 4ms/step - loss: 1.6872 - acc: 0.6429\n"
          ],
          "name": "stdout"
        },
        {
          "output_type": "execute_result",
          "data": {
            "text/plain": [
              "[1.6872444152832031, 0.6428571343421936]"
            ]
          },
          "metadata": {
            "tags": []
          },
          "execution_count": 60
        }
      ]
    },
    {
      "cell_type": "code",
      "metadata": {
        "id": "qluipujdHI6B",
        "colab_type": "code",
        "colab": {
          "base_uri": "https://localhost:8080/",
          "height": 89
        },
        "outputId": "2e678059-1e60-4fe2-b069-ddd1b00f4e0d"
      },
      "source": [
        "y_pred = model.predict_classes(X_test)"
      ],
      "execution_count": 61,
      "outputs": [
        {
          "output_type": "stream",
          "text": [
            "WARNING:tensorflow:From <ipython-input-61-fdaaf2360398>:1: Sequential.predict_classes (from tensorflow.python.keras.engine.sequential) is deprecated and will be removed after 2021-01-01.\n",
            "Instructions for updating:\n",
            "Please use instead:* `np.argmax(model.predict(x), axis=-1)`,   if your model does multi-class classification   (e.g. if it uses a `softmax` last-layer activation).* `(model.predict(x) > 0.5).astype(\"int32\")`,   if your model does binary classification   (e.g. if it uses a `sigmoid` last-layer activation).\n"
          ],
          "name": "stdout"
        }
      ]
    },
    {
      "cell_type": "code",
      "metadata": {
        "id": "p9KrRRV8HI8Q",
        "colab_type": "code",
        "colab": {}
      },
      "source": [
        "test = test[0].values"
      ],
      "execution_count": 62,
      "outputs": []
    },
    {
      "cell_type": "code",
      "metadata": {
        "id": "BryLXsC9HI-b",
        "colab_type": "code",
        "colab": {
          "base_uri": "https://localhost:8080/",
          "height": 711
        },
        "outputId": "ec654252-56c3-4850-a860-94a0cc3e37be"
      },
      "source": [
        "for i in range(40):\n",
        "    print( \" \".join(test[i]) , emoji.emojize(emoji_dictionary[str(y_pred[i])]))"
      ],
      "execution_count": 63,
      "outputs": [
        {
          "output_type": "stream",
          "text": [
            "I want to eat 🍴\n",
            "he did not answer 😓\n",
            "he got a raise 😁\n",
            "she got me a present ❤️\n",
            "ha ha ha it was so funny 😁\n",
            "he is a good friend 😁\n",
            "I am upset 😓\n",
            "We had such a lovely dinner tonight 😁\n",
            "where is the food 🍴\n",
            "Stop making this joke ha ha ha 😁\n",
            "where is the ball ⚾\n",
            "work is hard 😁\n",
            "This girl is messing with me ❤️\n",
            "are you serious ha ha 😓\n",
            "Let us go play baseball ⚾\n",
            "This stupid grader is not working 😓\n",
            "work is horrible 😁\n",
            "Congratulation for having a baby 😁\n",
            "stop messing around 😓\n",
            "any suggestions for dinner 😁\n",
            "I love taking breaks 😁\n",
            "you brighten my day ❤️\n",
            "I boiled rice 🍴\n",
            "she is a bully 😁\n",
            "Why are you feeling bad 😓\n",
            "I am upset 😓\n",
            "I worked during my birthday 😁\n",
            "My grandmother is the love of my life ❤️\n",
            "enjoy your break ⚾\n",
            "valentine day is near 😁\n",
            "I miss you so much ❤️\n",
            "throw the ball ⚾\n",
            "My life is so boring 😓\n",
            "she said yes 😁\n",
            "will you be my valentine 😁\n",
            "he can pitch really well ⚾\n",
            "dance with me 😁\n",
            "I am starving 🍴\n",
            "See you at the restaurant ❤️\n",
            "I like to laugh 😁\n"
          ],
          "name": "stdout"
        }
      ]
    }
  ]
}